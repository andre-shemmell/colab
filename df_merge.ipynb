{
  "nbformat": 4,
  "nbformat_minor": 0,
  "metadata": {
    "colab": {
      "name": "df.merge.ipynb",
      "provenance": [],
      "collapsed_sections": [
        "yBDUj6TN7-se",
        "wLbr5ARQ2krE",
        "U-B4PMA42CLt"
      ],
      "authorship_tag": "ABX9TyOrBQBBgEUtYoPUJ1RTLgoB",
      "include_colab_link": true
    },
    "kernelspec": {
      "name": "python3",
      "display_name": "Python 3"
    },
    "language_info": {
      "name": "python"
    }
  },
  "cells": [
    {
      "cell_type": "markdown",
      "metadata": {
        "id": "view-in-github",
        "colab_type": "text"
      },
      "source": [
        "<a href=\"https://colab.research.google.com/github/andre-shemmell/colab/blob/main/df_merge.ipynb\" target=\"_parent\"><img src=\"https://colab.research.google.com/assets/colab-badge.svg\" alt=\"Open In Colab\"/></a>"
      ]
    },
    {
      "cell_type": "markdown",
      "metadata": {
        "id": "yBDUj6TN7-se"
      },
      "source": [
        "# Initialise"
      ]
    },
    {
      "cell_type": "code",
      "metadata": {
        "id": "YBK2d20gpzFT"
      },
      "source": [
        "import pandas as pd\n",
        "import io\n",
        "from datetime import date\n",
        "from google.colab import files\n",
        "!pip install inquirer\n",
        "import inquirer"
      ],
      "execution_count": null,
      "outputs": []
    },
    {
      "cell_type": "markdown",
      "metadata": {
        "id": "ZXkL48yFnjK-"
      },
      "source": [
        "# Prompt for file uploads"
      ]
    },
    {
      "cell_type": "code",
      "metadata": {
        "id": "0Kj6dJwtnf-P"
      },
      "source": [
        "uploaded = files.upload()\n",
        "for fn in uploaded.keys():\n",
        "  print('User uploaded file \"{name}\" with length {length} bytes'.format(\n",
        "      name=fn, length=len(uploaded[fn])))\n",
        "  \n",
        "uploaded2 = files.upload()\n",
        "for fn2 in uploaded2.keys():\n",
        "  print('User uploaded file \"{name}\" with length {length} bytes'.format(\n",
        "      name=fn2, length=len(uploaded2[fn2])))\n",
        "  \n",
        "df1 = pd.read_csv(io.BytesIO(uploaded[fn]))\n",
        "df2 = pd.read_csv(io.BytesIO(uploaded2[fn2]))\n"
      ],
      "execution_count": null,
      "outputs": []
    },
    {
      "cell_type": "code",
      "metadata": {
        "id": "89mdwDlmCH7G"
      },
      "source": [
        "\n",
        "questions = [inquirer.List('key1',\n",
        "                           message=\"Select File 1 Key\",\n",
        "                           choices=list(df1)),\n",
        "            ]\n",
        "answers = inquirer.prompt(questions)\n",
        "print(answers['key1'])\n"
      ],
      "execution_count": null,
      "outputs": []
    },
    {
      "cell_type": "markdown",
      "metadata": {
        "id": "wLbr5ARQ2krE"
      },
      "source": [
        "# Merge dataframes on dual keys"
      ]
    },
    {
      "cell_type": "code",
      "metadata": {
        "id": "09BRNz_Cx6Zi"
      },
      "source": [
        "dfout = df1.merge(df2,on=('email','firstname'),how='left',sort=True)"
      ],
      "execution_count": 7,
      "outputs": []
    },
    {
      "cell_type": "markdown",
      "metadata": {
        "id": "U-B4PMA42CLt"
      },
      "source": [
        "# write output dataframe to csv and download"
      ]
    },
    {
      "cell_type": "code",
      "metadata": {
        "colab": {
          "base_uri": "https://localhost:8080/",
          "height": 17
        },
        "id": "SDrHyFY2nr--",
        "outputId": "e545eaaa-5f9f-41d1-ec35-f4ae4ccce832"
      },
      "source": [
        "from google.colab import files\n",
        "\n",
        "outputFileName = date.today().strftime(\"%Y-%m-%d\") + '_output.csv'\n",
        "\n",
        "dfout.to_csv(outputFileName,index=False,encoding='utf-8')\n",
        "\n",
        "files.download(outputFileName)"
      ],
      "execution_count": 8,
      "outputs": [
        {
          "output_type": "display_data",
          "data": {
            "application/javascript": [
              "\n",
              "    async function download(id, filename, size) {\n",
              "      if (!google.colab.kernel.accessAllowed) {\n",
              "        return;\n",
              "      }\n",
              "      const div = document.createElement('div');\n",
              "      const label = document.createElement('label');\n",
              "      label.textContent = `Downloading \"${filename}\": `;\n",
              "      div.appendChild(label);\n",
              "      const progress = document.createElement('progress');\n",
              "      progress.max = size;\n",
              "      div.appendChild(progress);\n",
              "      document.body.appendChild(div);\n",
              "\n",
              "      const buffers = [];\n",
              "      let downloaded = 0;\n",
              "\n",
              "      const channel = await google.colab.kernel.comms.open(id);\n",
              "      // Send a message to notify the kernel that we're ready.\n",
              "      channel.send({})\n",
              "\n",
              "      for await (const message of channel.messages) {\n",
              "        // Send a message to notify the kernel that we're ready.\n",
              "        channel.send({})\n",
              "        if (message.buffers) {\n",
              "          for (const buffer of message.buffers) {\n",
              "            buffers.push(buffer);\n",
              "            downloaded += buffer.byteLength;\n",
              "            progress.value = downloaded;\n",
              "          }\n",
              "        }\n",
              "      }\n",
              "      const blob = new Blob(buffers, {type: 'application/binary'});\n",
              "      const a = document.createElement('a');\n",
              "      a.href = window.URL.createObjectURL(blob);\n",
              "      a.download = filename;\n",
              "      div.appendChild(a);\n",
              "      a.click();\n",
              "      div.remove();\n",
              "    }\n",
              "  "
            ],
            "text/plain": [
              "<IPython.core.display.Javascript object>"
            ]
          },
          "metadata": {}
        },
        {
          "output_type": "display_data",
          "data": {
            "application/javascript": [
              "download(\"download_64355b61-bfd6-4c97-9fa3-a4b41b131ea2\", \"2021-12-05_output.csv\", 278)"
            ],
            "text/plain": [
              "<IPython.core.display.Javascript object>"
            ]
          },
          "metadata": {}
        }
      ]
    }
  ]
}